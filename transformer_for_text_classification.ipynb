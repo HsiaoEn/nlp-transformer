{
 "cells": [
  {
   "cell_type": "markdown",
   "id": "b3cd67b7",
   "metadata": {},
   "source": [
    "# Fine-tuning Transformer for Text Classification\n",
    "\n",
    "這是一篇使用 Transformation 做中文文本分類的 Notebook，整個任務的流程可分為：\n",
    "\n",
    "1. Data Preprocessing \n",
    "2. Modeling\n",
    "3. Training\n",
    "4. Evaluation\n",
    "\n",
    "資料的部分使用 THUCNews 的一部分做為訓練與模型評估之用，原資料集一共有14個類別，這邊僅使用其中的12個類別，且資料集分別切割為：\n",
    "\n",
    "- Training dataset\n",
    "- Development dataset(就是 Validation dataset)\n",
    "- Testing dataset\n",
    "\n",
    "模型使用 BERT 的改良版 RoBERTa 進行 Fine-tuning，預訓練模型及相關的資料處理工具來自於 [Hugging Face](https://huggingface.co/)，因此需要預先安裝：  \n",
    "pip install transformers[sentencepiece]  \n",
    "pip install datasets\n"
   ]
  },
  {
   "cell_type": "code",
   "execution_count": 1,
   "id": "18c994a5",
   "metadata": {},
   "outputs": [],
   "source": [
    "import os\n",
    "import re\n",
    "import numpy as np\n",
    "import pandas as pd\n",
    "import matplotlib.pyplot as plt\n",
    "\n",
    "%matplotlib inline"
   ]
  },
  {
   "cell_type": "markdown",
   "id": "bc268d75",
   "metadata": {},
   "source": [
    "## Data Preprocessing"
   ]
  },
  {
   "cell_type": "markdown",
   "id": "f7c147c2",
   "metadata": {},
   "source": [
    "先將資料分別讀取進來，可以看到資料集一共有兩個 columns，一個是每篇文章的內容 content，一個是文章所對應到的類別標籤 label"
   ]
  },
  {
   "cell_type": "code",
   "execution_count": 2,
   "id": "5b6a471a",
   "metadata": {},
   "outputs": [
    {
     "data": {
      "text/html": [
       "<div>\n",
       "<style scoped>\n",
       "    .dataframe tbody tr th:only-of-type {\n",
       "        vertical-align: middle;\n",
       "    }\n",
       "\n",
       "    .dataframe tbody tr th {\n",
       "        vertical-align: top;\n",
       "    }\n",
       "\n",
       "    .dataframe thead th {\n",
       "        text-align: right;\n",
       "    }\n",
       "</style>\n",
       "<table border=\"1\" class=\"dataframe\">\n",
       "  <thead>\n",
       "    <tr style=\"text-align: right;\">\n",
       "      <th></th>\n",
       "      <th>label</th>\n",
       "      <th>content</th>\n",
       "    </tr>\n",
       "  </thead>\n",
       "  <tbody>\n",
       "    <tr>\n",
       "      <th>0</th>\n",
       "      <td>游戏</td>\n",
       "      <td>《海贼王：恶魔之城》热血格斗家展示 　　大型手机网络游戏《海贼王：恶魔之城》以路飞和伙伴之间...</td>\n",
       "    </tr>\n",
       "    <tr>\n",
       "      <th>1</th>\n",
       "      <td>游戏</td>\n",
       "      <td>《魔力世纪》迎春大行动赢取逆天装备 　　杭州流金网络科技有限公司，旗下运营的 “时尚宠物回合...</td>\n",
       "    </tr>\n",
       "    <tr>\n",
       "      <th>2</th>\n",
       "      <td>游戏</td>\n",
       "      <td>强者天下 《开天Q传2》三公擂台比武 　　电视剧《少年英雄方世玉》前几集里的擂台争霸可是真好...</td>\n",
       "    </tr>\n",
       "    <tr>\n",
       "      <th>3</th>\n",
       "      <td>游戏</td>\n",
       "      <td>论剑华山之巅 笑傲江湖帮会系统揭秘 　　醉卧沙场君莫笑，华山论剑几人回。WAP游戏巨作《笑傲...</td>\n",
       "    </tr>\n",
       "    <tr>\n",
       "      <th>4</th>\n",
       "      <td>游戏</td>\n",
       "      <td>《三国online》二十五日盛大开服 　　《三国OL》——二零零九年三月二十五日开服！　　在...</td>\n",
       "    </tr>\n",
       "  </tbody>\n",
       "</table>\n",
       "</div>"
      ],
      "text/plain": [
       "  label                                            content\n",
       "0    游戏  《海贼王：恶魔之城》热血格斗家展示 　　大型手机网络游戏《海贼王：恶魔之城》以路飞和伙伴之间...\n",
       "1    游戏  《魔力世纪》迎春大行动赢取逆天装备 　　杭州流金网络科技有限公司，旗下运营的 “时尚宠物回合...\n",
       "2    游戏  强者天下 《开天Q传2》三公擂台比武 　　电视剧《少年英雄方世玉》前几集里的擂台争霸可是真好...\n",
       "3    游戏  论剑华山之巅 笑傲江湖帮会系统揭秘 　　醉卧沙场君莫笑，华山论剑几人回。WAP游戏巨作《笑傲...\n",
       "4    游戏  《三国online》二十五日盛大开服 　　《三国OL》——二零零九年三月二十五日开服！　　在..."
      ]
     },
     "execution_count": 2,
     "metadata": {},
     "output_type": "execute_result"
    }
   ],
   "source": [
    "df_train = pd.read_csv('data/train.csv')\n",
    "df_dev = pd.read_csv('data/dev.csv')\n",
    "df_test = pd.read_csv('data/test.csv')\n",
    "\n",
    "df_train.head()"
   ]
  },
  {
   "cell_type": "markdown",
   "id": "c1fc47e3",
   "metadata": {},
   "source": [
    "全部的類別一共12類，訓練集約有4,8000筆資料，驗證集與測試集各有1,2000筆資料"
   ]
  },
  {
   "cell_type": "code",
   "execution_count": 3,
   "id": "cd816778",
   "metadata": {},
   "outputs": [
    {
     "name": "stdout",
     "output_type": "stream",
     "text": [
      "------------------Training Data-----------------------\n",
      "        label                                            content\n",
      "count   48048                                              48048\n",
      "unique     12                                              47949\n",
      "top        教育  牛人分享动物园实用淘衣秘技 　　导语：动物园地区是搜寻价廉物美服装的理想去处。在这里，花不多...\n",
      "freq     4004                                                  3\n",
      "------------------Development Data--------------------\n",
      "        label                                            content\n",
      "count   12000                                              12000\n",
      "unique     12                                              11958\n",
      "top        财经  开来资讯盈利和评级综合调整一览表 　　新浪提示：本文属于研究报告栏目，仅为分析人士对一只股票...\n",
      "freq     1000                                                 14\n",
      "------------------Testing Data------------------------\n",
      "        label                                            content\n",
      "count   12000                                              12000\n",
      "unique     12                                              11955\n",
      "top        财经  证券通盈利和评级综合调整一览表 　　新浪提示：本文属于研究报告栏目，仅为分析人士对一只股票的...\n",
      "freq     1000                                                 20\n"
     ]
    }
   ],
   "source": [
    "print('------------------Training Data-----------------------')\n",
    "print(df_train.describe())\n",
    "print('------------------Development Data--------------------')\n",
    "print(df_dev.describe())\n",
    "print('------------------Testing Data------------------------')\n",
    "print(df_test.describe())"
   ]
  },
  {
   "cell_type": "markdown",
   "id": "463ef89f",
   "metadata": {},
   "source": [
    "可以來看看各類別資料的筆數，檢查是否有資料不平衡的現象，這邊的資料各類別的數量都是平均的"
   ]
  },
  {
   "cell_type": "code",
   "execution_count": 4,
   "id": "0abc20c7",
   "metadata": {},
   "outputs": [
    {
     "name": "stdout",
     "output_type": "stream",
     "text": [
      "       content\n",
      "label         \n",
      "体育        4004\n",
      "娱乐        4004\n",
      "家居        4004\n",
      "房产        4004\n",
      "教育        4004\n",
      "时尚        4004\n",
      "时政        4004\n",
      "游戏        4004\n",
      "社会        4004\n",
      "科技        4004\n",
      "股票        4004\n",
      "财经        4004\n"
     ]
    }
   ],
   "source": [
    "train_category_count = df_train.groupby('label').count()\n",
    "dev_category_count = df_dev.groupby('label').count()\n",
    "test_category_count = df_test.groupby('label').count()\n",
    "\n",
    "print(train_category_count.sort_values('content'))\n",
    "\n",
    "# 也可以看一看 dev, test datasets 的資料分佈與數量\n",
    "# print(dev_category_count.sort_values('content'))\n",
    "# print(test_category_count.sort_values('content'))"
   ]
  },
  {
   "cell_type": "code",
   "execution_count": 5,
   "id": "2dda2183",
   "metadata": {},
   "outputs": [
    {
     "data": {
      "text/plain": [
       "Text(0.5, 1.0, 'Testing Data')"
      ]
     },
     "execution_count": 5,
     "metadata": {},
     "output_type": "execute_result"
    },
    {
     "data": {
      "image/png": "[encoded data removed]",
      "text/plain": [
       "<Figure size 1440x432 with 3 Axes>"
      ]
     },
     "metadata": {
      "needs_background": "light"
     },
     "output_type": "display_data"
    }
   ],
   "source": [
    "plt.rcParams['font.sans-serif'] = ['Microsoft JhengHei']\n",
    "\n",
    "fig, (ax1, ax2, ax3) = plt.subplots(1,3, figsize=(20,6))\n",
    "ax1.bar(train_category_count.index, height = train_category_count['content'])\n",
    "ax1.set_title('Training Data')\n",
    "ax2.bar(dev_category_count.index, height = dev_category_count['content'])\n",
    "ax2.set_title('Development Data')\n",
    "ax3.bar(test_category_count.index, height = test_category_count['content'])\n",
    "ax3.set_title('Testing Data')"
   ]
  },
  {
   "cell_type": "markdown",
   "id": "17a7d826",
   "metadata": {},
   "source": [
    "可以看到 content 中包含了一些特殊字元或標點符號，例如：\\u3000、《，由於 BERT 的輸入長度有限(Input size:512 tokens)，因此可預先將不必要的字元去除，避免模型吃進無意義的資訊"
   ]
  },
  {
   "cell_type": "code",
   "execution_count": 6,
   "id": "95e23c34",
   "metadata": {},
   "outputs": [
    {
     "data": {
      "text/plain": [
       "'《海贼王：恶魔之城》热血格斗家展示 \\u3000\\u3000大型手机网络游戏《海贼王：恶魔之城》以路飞和伙伴之间的故事为主线剧情，引领着玩家体验一个热血的梦幻世界。玩家出生在故事中路飞的故乡，并与他一同成长，直至路飞为了自己的梦想展开远航……玩家此时可以自由选择属于自己的发展方向。\\u3000\\u3000每个级别达到十级的玩家都可以自由选择职业，沿着所选择的道路一路成长下去，成为世人所瞩目的大师。格斗家致力于武技锻炼，并拥有强大的爆发力，是当仁不让的搏击强者。\\u3000\\u3000格斗家终生追求就是锻炼武技和身体，对于他们来讲最重要的莫过于在艰辛而危险的训练中让汗水尽情挥洒。他们大多身体敏捷，出手迅速，经常使用难以想象的精巧格斗技能给敌人造成巨大的物理伤害，更有甚者可以把敌人打晕，完全失去抵抗能力。丰富的人体学知识，使他们可以知道每个敌人最致命的弱点。他们拥有良好的体力，善长近攻和灵活的防守。踢腿、翻摔等等看似简单的技能，在格斗家使出来时，却具有强大的杀伤力，往往只须一招一式就可克敌制胜。\\u3000\\u3000《海贼王》永久免费运营(不含移动网络流量费)，只需安装客户端后立刻可以开始游戏，不需提前注册或定制任何服务。中国 移动用户发送短信内容 ：hz(不区分大小写)到1066666680，即可免费得到《海贼王》客户端下载地址。\\u3000\\u3000更多游戏信息，请访问Web官方网站www.hzw.92LE.com或Wap官方网站hzw.92LE.com。'"
      ]
     },
     "execution_count": 6,
     "metadata": {},
     "output_type": "execute_result"
    }
   ],
   "source": [
    "df_train['content'][0]"
   ]
  },
  {
   "cell_type": "code",
   "execution_count": 7,
   "id": "60c01a93",
   "metadata": {},
   "outputs": [],
   "source": [
    "def normalizeString(s):\n",
    "    s = re.sub(r'[\\u3000\\xa0《》，。：！”“、…… ]',r'',s)\n",
    "    s = re.sub(r'https?:\\/\\/\\S*','',s)\n",
    "    s = re.sub(r'www\\S*','',s)\n",
    "    return s"
   ]
  },
  {
   "cell_type": "code",
   "execution_count": 8,
   "id": "0620aa41",
   "metadata": {},
   "outputs": [],
   "source": [
    "cleaned_content = []\n",
    "\n",
    "for text in df_train['content']:\n",
    "    cleaned_content.append((normalizeString(text)))\n",
    "    \n",
    "df_train['content'] = cleaned_content"
   ]
  },
  {
   "cell_type": "markdown",
   "id": "f4d52831",
   "metadata": {},
   "source": [
    "以下是將不必要的字元去除後的狀態"
   ]
  },
  {
   "cell_type": "code",
   "execution_count": 9,
   "id": "dd4b0595",
   "metadata": {},
   "outputs": [
    {
     "data": {
      "text/plain": [
       "'海贼王恶魔之城热血格斗家展示大型手机网络游戏海贼王恶魔之城以路飞和伙伴之间的故事为主线剧情引领着玩家体验一个热血的梦幻世界玩家出生在故事中路飞的故乡并与他一同成长直至路飞为了自己的梦想展开远航玩家此时可以自由选择属于自己的发展方向每个级别达到十级的玩家都可以自由选择职业沿着所选择的道路一路成长下去成为世人所瞩目的大师格斗家致力于武技锻炼并拥有强大的爆发力是当仁不让的搏击强者格斗家终生追求就是锻炼武技和身体对于他们来讲最重要的莫过于在艰辛而危险的训练中让汗水尽情挥洒他们大多身体敏捷出手迅速经常使用难以想象的精巧格斗技能给敌人造成巨大的物理伤害更有甚者可以把敌人打晕完全失去抵抗能力丰富的人体学知识使他们可以知道每个敌人最致命的弱点他们拥有良好的体力善长近攻和灵活的防守踢腿翻摔等等看似简单的技能在格斗家使出来时却具有强大的杀伤力往往只须一招一式就可克敌制胜海贼王永久免费运营(不含移动网络流量费)只需安装客户端后立刻可以开始游戏不需提前注册或定制任何服务中国移动用户发送短信内容hz(不区分大小写)到1066666680即可免费得到海贼王客户端下载地址更多游戏信息请访问Web官方网站'"
      ]
     },
     "execution_count": 9,
     "metadata": {},
     "output_type": "execute_result"
    }
   ],
   "source": [
    "cleaned_content[0]"
   ]
  },
  {
   "cell_type": "code",
   "execution_count": 10,
   "id": "7e5a5fc5",
   "metadata": {},
   "outputs": [],
   "source": [
    "cleaned_content_dev = []\n",
    "cleaned_content_test = []\n",
    "\n",
    "for text in df_dev['content']:\n",
    "    cleaned_content_dev.append((normalizeString(text)))\n",
    "    \n",
    "for text in df_test['content']:\n",
    "    cleaned_content_test.append((normalizeString(text)))\n",
    "    \n",
    "df_dev['content'] = cleaned_content_dev\n",
    "df_test['content'] = cleaned_content_test"
   ]
  },
  {
   "cell_type": "code",
   "execution_count": 11,
   "id": "23f5c4fe",
   "metadata": {},
   "outputs": [
    {
     "data": {
      "text/html": [
       "<div>\n",
       "<style scoped>\n",
       "    .dataframe tbody tr th:only-of-type {\n",
       "        vertical-align: middle;\n",
       "    }\n",
       "\n",
       "    .dataframe tbody tr th {\n",
       "        vertical-align: top;\n",
       "    }\n",
       "\n",
       "    .dataframe thead th {\n",
       "        text-align: right;\n",
       "    }\n",
       "</style>\n",
       "<table border=\"1\" class=\"dataframe\">\n",
       "  <thead>\n",
       "    <tr style=\"text-align: right;\">\n",
       "      <th></th>\n",
       "      <th>label</th>\n",
       "      <th>content</th>\n",
       "    </tr>\n",
       "  </thead>\n",
       "  <tbody>\n",
       "    <tr>\n",
       "      <th>0</th>\n",
       "      <td>游戏</td>\n",
       "      <td>海贼王恶魔之城热血格斗家展示大型手机网络游戏海贼王恶魔之城以路飞和伙伴之间的故事为主线剧情引...</td>\n",
       "    </tr>\n",
       "    <tr>\n",
       "      <th>1</th>\n",
       "      <td>游戏</td>\n",
       "      <td>魔力世纪迎春大行动赢取逆天装备杭州流金网络科技有限公司旗下运营的时尚宠物回合经典PK手机网游...</td>\n",
       "    </tr>\n",
       "    <tr>\n",
       "      <th>2</th>\n",
       "      <td>游戏</td>\n",
       "      <td>强者天下开天Q传2三公擂台比武电视剧少年英雄方世玉前几集里的擂台争霸可是真好看不仅打斗场面精...</td>\n",
       "    </tr>\n",
       "    <tr>\n",
       "      <th>3</th>\n",
       "      <td>游戏</td>\n",
       "      <td>论剑华山之巅笑傲江湖帮会系统揭秘醉卧沙场君莫笑华山论剑几人回WAP游戏巨作笑傲江湖OL的帮派...</td>\n",
       "    </tr>\n",
       "    <tr>\n",
       "      <th>4</th>\n",
       "      <td>游戏</td>\n",
       "      <td>三国online二十五日盛大开服三国OL——二零零九年三月二十五日开服在众多玩家朋友的关心下...</td>\n",
       "    </tr>\n",
       "  </tbody>\n",
       "</table>\n",
       "</div>"
      ],
      "text/plain": [
       "  label                                            content\n",
       "0    游戏  海贼王恶魔之城热血格斗家展示大型手机网络游戏海贼王恶魔之城以路飞和伙伴之间的故事为主线剧情引...\n",
       "1    游戏  魔力世纪迎春大行动赢取逆天装备杭州流金网络科技有限公司旗下运营的时尚宠物回合经典PK手机网游...\n",
       "2    游戏  强者天下开天Q传2三公擂台比武电视剧少年英雄方世玉前几集里的擂台争霸可是真好看不仅打斗场面精...\n",
       "3    游戏  论剑华山之巅笑傲江湖帮会系统揭秘醉卧沙场君莫笑华山论剑几人回WAP游戏巨作笑傲江湖OL的帮派...\n",
       "4    游戏  三国online二十五日盛大开服三国OL——二零零九年三月二十五日开服在众多玩家朋友的关心下..."
      ]
     },
     "execution_count": 11,
     "metadata": {},
     "output_type": "execute_result"
    }
   ],
   "source": [
    "df_train.head()"
   ]
  },
  {
   "cell_type": "markdown",
   "id": "94aef8e4",
   "metadata": {},
   "source": [
    "在訓練前要先將資料的標籤轉換為數字才能進行訓練，因此設定一個 label_map 將各類別標籤 map 過去"
   ]
  },
  {
   "cell_type": "code",
   "execution_count": 12,
   "id": "249b1956",
   "metadata": {},
   "outputs": [],
   "source": [
    "label_map={'游戏':0, '家居':1, '社会':2, '体育':3, \n",
    "           '股票':4, '财经':5, '科技':6,  '时政':7, \n",
    "           '娱乐':8, '教育':9, '时尚':10, '房产':11,\n",
    "           '彩票':12, '星座':13}\n",
    "df_train['label']=df_train['label'].map(label_map)\n",
    "df_dev['label']=df_dev['label'].map(label_map)\n",
    "df_test['label']=df_test['label'].map(label_map)"
   ]
  },
  {
   "cell_type": "code",
   "execution_count": 13,
   "id": "3438d1b1",
   "metadata": {},
   "outputs": [
    {
     "data": {
      "text/html": [
       "<div>\n",
       "<style scoped>\n",
       "    .dataframe tbody tr th:only-of-type {\n",
       "        vertical-align: middle;\n",
       "    }\n",
       "\n",
       "    .dataframe tbody tr th {\n",
       "        vertical-align: top;\n",
       "    }\n",
       "\n",
       "    .dataframe thead th {\n",
       "        text-align: right;\n",
       "    }\n",
       "</style>\n",
       "<table border=\"1\" class=\"dataframe\">\n",
       "  <thead>\n",
       "    <tr style=\"text-align: right;\">\n",
       "      <th></th>\n",
       "      <th>label</th>\n",
       "      <th>content</th>\n",
       "    </tr>\n",
       "  </thead>\n",
       "  <tbody>\n",
       "    <tr>\n",
       "      <th>0</th>\n",
       "      <td>0</td>\n",
       "      <td>海贼王恶魔之城热血格斗家展示大型手机网络游戏海贼王恶魔之城以路飞和伙伴之间的故事为主线剧情引...</td>\n",
       "    </tr>\n",
       "    <tr>\n",
       "      <th>1</th>\n",
       "      <td>0</td>\n",
       "      <td>魔力世纪迎春大行动赢取逆天装备杭州流金网络科技有限公司旗下运营的时尚宠物回合经典PK手机网游...</td>\n",
       "    </tr>\n",
       "    <tr>\n",
       "      <th>2</th>\n",
       "      <td>0</td>\n",
       "      <td>强者天下开天Q传2三公擂台比武电视剧少年英雄方世玉前几集里的擂台争霸可是真好看不仅打斗场面精...</td>\n",
       "    </tr>\n",
       "    <tr>\n",
       "      <th>3</th>\n",
       "      <td>0</td>\n",
       "      <td>论剑华山之巅笑傲江湖帮会系统揭秘醉卧沙场君莫笑华山论剑几人回WAP游戏巨作笑傲江湖OL的帮派...</td>\n",
       "    </tr>\n",
       "    <tr>\n",
       "      <th>4</th>\n",
       "      <td>0</td>\n",
       "      <td>三国online二十五日盛大开服三国OL——二零零九年三月二十五日开服在众多玩家朋友的关心下...</td>\n",
       "    </tr>\n",
       "  </tbody>\n",
       "</table>\n",
       "</div>"
      ],
      "text/plain": [
       "   label                                            content\n",
       "0      0  海贼王恶魔之城热血格斗家展示大型手机网络游戏海贼王恶魔之城以路飞和伙伴之间的故事为主线剧情引...\n",
       "1      0  魔力世纪迎春大行动赢取逆天装备杭州流金网络科技有限公司旗下运营的时尚宠物回合经典PK手机网游...\n",
       "2      0  强者天下开天Q传2三公擂台比武电视剧少年英雄方世玉前几集里的擂台争霸可是真好看不仅打斗场面精...\n",
       "3      0  论剑华山之巅笑傲江湖帮会系统揭秘醉卧沙场君莫笑华山论剑几人回WAP游戏巨作笑傲江湖OL的帮派...\n",
       "4      0  三国online二十五日盛大开服三国OL——二零零九年三月二十五日开服在众多玩家朋友的关心下..."
      ]
     },
     "execution_count": 13,
     "metadata": {},
     "output_type": "execute_result"
    }
   ],
   "source": [
    "df_train.head()"
   ]
  },
  {
   "cell_type": "code",
   "execution_count": 14,
   "id": "54457f2b",
   "metadata": {},
   "outputs": [],
   "source": [
    "df_train.to_csv('data/clean_train.csv', index = False)\n",
    "df_dev.to_csv('data/clean_dev.csv', index = False)\n",
    "df_test.to_csv('data/clean_test.csv', index = False)"
   ]
  },
  {
   "cell_type": "markdown",
   "id": "0497e4f4",
   "metadata": {},
   "source": [
    "## Modeling"
   ]
  },
  {
   "cell_type": "code",
   "execution_count": 15,
   "id": "37cb81fc",
   "metadata": {},
   "outputs": [
    {
     "data": {
      "application/vnd.jupyter.widget-view+json": {
       "model_id": "cf5a24989e5b45e19d32fea1e4e0a7a7",
       "version_major": 2,
       "version_minor": 0
      },
      "text/plain": [
       "Downloading:   0%|          | 0.00/295 [00:00<?, ?B/s]"
      ]
     },
     "metadata": {},
     "output_type": "display_data"
    },
    {
     "data": {
      "application/vnd.jupyter.widget-view+json": {
       "model_id": "e758152695db4c109700a2bb96c7a3d6",
       "version_major": 2,
       "version_minor": 0
      },
      "text/plain": [
       "Downloading:   0%|          | 0.00/880 [00:00<?, ?B/s]"
      ]
     },
     "metadata": {},
     "output_type": "display_data"
    },
    {
     "data": {
      "application/vnd.jupyter.widget-view+json": {
       "model_id": "3d177f3411804a5199ba571d096e5fe5",
       "version_major": 2,
       "version_minor": 0
      },
      "text/plain": [
       "Downloading:   0%|          | 0.00/107k [00:00<?, ?B/s]"
      ]
     },
     "metadata": {},
     "output_type": "display_data"
    },
    {
     "data": {
      "application/vnd.jupyter.widget-view+json": {
       "model_id": "f02b0f9eebf94cedb8d630ae2b0df9b7",
       "version_major": 2,
       "version_minor": 0
      },
      "text/plain": [
       "Downloading:   0%|          | 0.00/112 [00:00<?, ?B/s]"
      ]
     },
     "metadata": {},
     "output_type": "display_data"
    },
    {
     "name": "stderr",
     "output_type": "stream",
     "text": [
      "Using custom data configuration default-4dd43f67cbde4e15\n"
     ]
    },
    {
     "name": "stdout",
     "output_type": "stream",
     "text": [
      "Downloading and preparing dataset csv/default to /home/jovyan/.cache/huggingface/datasets/csv/default-4dd43f67cbde4e15/0.0.0/bf68a4c4aefa545d0712b2fcbb1b327f905bbe2f6425fbc5e8c25234acb9e14a...\n"
     ]
    },
    {
     "data": {
      "application/vnd.jupyter.widget-view+json": {
       "model_id": "86fbcedb241b4aeea8ea8e148d51b383",
       "version_major": 2,
       "version_minor": 0
      },
      "text/plain": [
       "  0%|          | 0/3 [00:00<?, ?it/s]"
      ]
     },
     "metadata": {},
     "output_type": "display_data"
    },
    {
     "data": {
      "application/vnd.jupyter.widget-view+json": {
       "model_id": "97ba00e45abd4e429ff5a9246b35bb9c",
       "version_major": 2,
       "version_minor": 0
      },
      "text/plain": [
       "  0%|          | 0/3 [00:00<?, ?it/s]"
      ]
     },
     "metadata": {},
     "output_type": "display_data"
    },
    {
     "name": "stdout",
     "output_type": "stream",
     "text": [
      "Dataset csv downloaded and prepared to /home/jovyan/.cache/huggingface/datasets/csv/default-4dd43f67cbde4e15/0.0.0/bf68a4c4aefa545d0712b2fcbb1b327f905bbe2f6425fbc5e8c25234acb9e14a. Subsequent calls will reuse this data.\n"
     ]
    },
    {
     "data": {
      "application/vnd.jupyter.widget-view+json": {
       "model_id": "c4da0902ea01450da0428242826e3df7",
       "version_major": 2,
       "version_minor": 0
      },
      "text/plain": [
       "  0%|          | 0/3 [00:00<?, ?it/s]"
      ]
     },
     "metadata": {},
     "output_type": "display_data"
    }
   ],
   "source": [
    "from transformers import AutoModelForSequenceClassification, AutoTokenizer\n",
    "from datasets import load_dataset\n",
    "import torch\n",
    "from tqdm.notebook import tqdm\n",
    "import time\n",
    "\n",
    "\n",
    "tokenizer = AutoTokenizer.from_pretrained('uer/roberta-base-finetuned-chinanews-chinese')\n",
    "\n",
    "# 將前面儲存起來的資料讀取進來，這邊使用 load_dataset 會將資料讀進 .cache 中\n",
    "# 之後獲取會比較快，但若重複太多次會佔用空間，有時需要手動清除 .cache 中的資料\n",
    "\n",
    "data=load_dataset('csv', data_files={'train':['./clean_train.csv'], \n",
    "                                     'valid':['./clean_dev.csv'],\n",
    "                                     'test':['./clean_test.csv']})\n",
    "\n",
    "from torch import cuda\n",
    "device = 'cuda' if cuda.is_available() else 'cpu'"
   ]
  },
  {
   "cell_type": "code",
   "execution_count": 16,
   "id": "8c7619cb",
   "metadata": {},
   "outputs": [
    {
     "data": {
      "application/vnd.jupyter.widget-view+json": {
       "model_id": "12d0a1a2fb6d4f25960f1c38b7f09256",
       "version_major": 2,
       "version_minor": 0
      },
      "text/plain": [
       "  0%|          | 0/49 [00:00<?, ?ba/s]"
      ]
     },
     "metadata": {},
     "output_type": "display_data"
    },
    {
     "data": {
      "application/vnd.jupyter.widget-view+json": {
       "model_id": "b4836fcd87fd45b98c4780ce42e067c0",
       "version_major": 2,
       "version_minor": 0
      },
      "text/plain": [
       "  0%|          | 0/12 [00:00<?, ?ba/s]"
      ]
     },
     "metadata": {},
     "output_type": "display_data"
    },
    {
     "data": {
      "application/vnd.jupyter.widget-view+json": {
       "model_id": "bf4efd77bd3e43999e464bc46bc02683",
       "version_major": 2,
       "version_minor": 0
      },
      "text/plain": [
       "  0%|          | 0/12 [00:00<?, ?ba/s]"
      ]
     },
     "metadata": {},
     "output_type": "display_data"
    }
   ],
   "source": [
    "def tokenize_function(data:dict):\n",
    "    return tokenizer(data['content'],padding=True,truncation=True, max_length=512)\n",
    "\n",
    "tokenized_data = data.map(tokenize_function, batched=True)"
   ]
  },
  {
   "cell_type": "code",
   "execution_count": 17,
   "id": "e52ffe91",
   "metadata": {},
   "outputs": [
    {
     "data": {
      "text/plain": [
       "['attention_mask', 'input_ids', 'labels', 'token_type_ids']"
      ]
     },
     "execution_count": 17,
     "metadata": {},
     "output_type": "execute_result"
    }
   ],
   "source": [
    "tokenized_data = tokenized_data.remove_columns(['content'])\n",
    "tokenized_data = tokenized_data.rename_column('label','labels')\n",
    "tokenized_data.set_format('torch',device='cuda')\n",
    "\n",
    "tokenized_data['train'].column_names"
   ]
  },
  {
   "cell_type": "code",
   "execution_count": 18,
   "id": "234499d4",
   "metadata": {},
   "outputs": [],
   "source": [
    "tokenized_data.set_format('torch',device='cuda')"
   ]
  },
  {
   "cell_type": "code",
   "execution_count": 19,
   "id": "4f876f04",
   "metadata": {},
   "outputs": [
    {
     "data": {
      "text/plain": [
       "DatasetDict({\n",
       "    train: Dataset({\n",
       "        features: ['attention_mask', 'input_ids', 'labels', 'token_type_ids'],\n",
       "        num_rows: 48048\n",
       "    })\n",
       "    valid: Dataset({\n",
       "        features: ['attention_mask', 'input_ids', 'labels', 'token_type_ids'],\n",
       "        num_rows: 12000\n",
       "    })\n",
       "    test: Dataset({\n",
       "        features: ['attention_mask', 'input_ids', 'labels', 'token_type_ids'],\n",
       "        num_rows: 12000\n",
       "    })\n",
       "})"
      ]
     },
     "execution_count": 19,
     "metadata": {},
     "output_type": "execute_result"
    }
   ],
   "source": [
    "tokenized_data"
   ]
  },
  {
   "cell_type": "code",
   "execution_count": 20,
   "id": "79ad4aa0",
   "metadata": {},
   "outputs": [],
   "source": [
    "from torch.utils.data import DataLoader\n",
    "\n",
    "BATCHSIZE = 32\n",
    "\n",
    "train_dataloader = DataLoader(\n",
    "    tokenized_data[\"train\"], shuffle=True, batch_size=BATCHSIZE)\n",
    "\n",
    "valid_dataloader = DataLoader(\n",
    "    tokenized_data[\"valid\"], shuffle=False, batch_size=BATCHSIZE)"
   ]
  },
  {
   "cell_type": "code",
   "execution_count": 21,
   "id": "a6b3c9a4",
   "metadata": {},
   "outputs": [
    {
     "data": {
      "text/plain": [
       "{'attention_mask': torch.Size([32, 512]),\n",
       " 'input_ids': torch.Size([32, 512]),\n",
       " 'labels': torch.Size([32]),\n",
       " 'token_type_ids': torch.Size([32, 512])}"
      ]
     },
     "execution_count": 21,
     "metadata": {},
     "output_type": "execute_result"
    }
   ],
   "source": [
    "for batch in train_dataloader:\n",
    "    break\n",
    "{k: v.shape for k, v in batch.items()}"
   ]
  },
  {
   "cell_type": "code",
   "execution_count": 22,
   "id": "08859419",
   "metadata": {
    "scrolled": true
   },
   "outputs": [
    {
     "data": {
      "application/vnd.jupyter.widget-view+json": {
       "model_id": "ca026c8d430d4696ac50aa27f87aff77",
       "version_major": 2,
       "version_minor": 0
      },
      "text/plain": [
       "Downloading:   0%|          | 0.00/390M [00:00<?, ?B/s]"
      ]
     },
     "metadata": {},
     "output_type": "display_data"
    },
    {
     "data": {
      "text/plain": [
       "DataParallel(\n",
       "  (module): RoBERTaClass(\n",
       "    (l1): BertModel(\n",
       "      (embeddings): BertEmbeddings(\n",
       "        (word_embeddings): Embedding(21128, 768, padding_idx=0)\n",
       "        (position_embeddings): Embedding(512, 768)\n",
       "        (token_type_embeddings): Embedding(2, 768)\n",
       "        (LayerNorm): LayerNorm((768,), eps=1e-12, elementwise_affine=True)\n",
       "        (dropout): Dropout(p=0.1, inplace=False)\n",
       "      )\n",
       "      (encoder): BertEncoder(\n",
       "        (layer): ModuleList(\n",
       "          (0): BertLayer(\n",
       "            (attention): BertAttention(\n",
       "              (self): BertSelfAttention(\n",
       "                (query): Linear(in_features=768, out_features=768, bias=True)\n",
       "                (key): Linear(in_features=768, out_features=768, bias=True)\n",
       "                (value): Linear(in_features=768, out_features=768, bias=True)\n",
       "                (dropout): Dropout(p=0.1, inplace=False)\n",
       "              )\n",
       "              (output): BertSelfOutput(\n",
       "                (dense): Linear(in_features=768, out_features=768, bias=True)\n",
       "                (LayerNorm): LayerNorm((768,), eps=1e-12, elementwise_affine=True)\n",
       "                (dropout): Dropout(p=0.1, inplace=False)\n",
       "              )\n",
       "            )\n",
       "            (intermediate): BertIntermediate(\n",
       "              (dense): Linear(in_features=768, out_features=3072, bias=True)\n",
       "            )\n",
       "            (output): BertOutput(\n",
       "              (dense): Linear(in_features=3072, out_features=768, bias=True)\n",
       "              (LayerNorm): LayerNorm((768,), eps=1e-12, elementwise_affine=True)\n",
       "              (dropout): Dropout(p=0.1, inplace=False)\n",
       "            )\n",
       "          )\n",
       "          (1): BertLayer(\n",
       "            (attention): BertAttention(\n",
       "              (self): BertSelfAttention(\n",
       "                (query): Linear(in_features=768, out_features=768, bias=True)\n",
       "                (key): Linear(in_features=768, out_features=768, bias=True)\n",
       "                (value): Linear(in_features=768, out_features=768, bias=True)\n",
       "                (dropout): Dropout(p=0.1, inplace=False)\n",
       "              )\n",
       "              (output): BertSelfOutput(\n",
       "                (dense): Linear(in_features=768, out_features=768, bias=True)\n",
       "                (LayerNorm): LayerNorm((768,), eps=1e-12, elementwise_affine=True)\n",
       "                (dropout): Dropout(p=0.1, inplace=False)\n",
       "              )\n",
       "            )\n",
       "            (intermediate): BertIntermediate(\n",
       "              (dense): Linear(in_features=768, out_features=3072, bias=True)\n",
       "            )\n",
       "            (output): BertOutput(\n",
       "              (dense): Linear(in_features=3072, out_features=768, bias=True)\n",
       "              (LayerNorm): LayerNorm((768,), eps=1e-12, elementwise_affine=True)\n",
       "              (dropout): Dropout(p=0.1, inplace=False)\n",
       "            )\n",
       "          )\n",
       "          (2): BertLayer(\n",
       "            (attention): BertAttention(\n",
       "              (self): BertSelfAttention(\n",
       "                (query): Linear(in_features=768, out_features=768, bias=True)\n",
       "                (key): Linear(in_features=768, out_features=768, bias=True)\n",
       "                (value): Linear(in_features=768, out_features=768, bias=True)\n",
       "                (dropout): Dropout(p=0.1, inplace=False)\n",
       "              )\n",
       "              (output): BertSelfOutput(\n",
       "                (dense): Linear(in_features=768, out_features=768, bias=True)\n",
       "                (LayerNorm): LayerNorm((768,), eps=1e-12, elementwise_affine=True)\n",
       "                (dropout): Dropout(p=0.1, inplace=False)\n",
       "              )\n",
       "            )\n",
       "            (intermediate): BertIntermediate(\n",
       "              (dense): Linear(in_features=768, out_features=3072, bias=True)\n",
       "            )\n",
       "            (output): BertOutput(\n",
       "              (dense): Linear(in_features=3072, out_features=768, bias=True)\n",
       "              (LayerNorm): LayerNorm((768,), eps=1e-12, elementwise_affine=True)\n",
       "              (dropout): Dropout(p=0.1, inplace=False)\n",
       "            )\n",
       "          )\n",
       "          (3): BertLayer(\n",
       "            (attention): BertAttention(\n",
       "              (self): BertSelfAttention(\n",
       "                (query): Linear(in_features=768, out_features=768, bias=True)\n",
       "                (key): Linear(in_features=768, out_features=768, bias=True)\n",
       "                (value): Linear(in_features=768, out_features=768, bias=True)\n",
       "                (dropout): Dropout(p=0.1, inplace=False)\n",
       "              )\n",
       "              (output): BertSelfOutput(\n",
       "                (dense): Linear(in_features=768, out_features=768, bias=True)\n",
       "                (LayerNorm): LayerNorm((768,), eps=1e-12, elementwise_affine=True)\n",
       "                (dropout): Dropout(p=0.1, inplace=False)\n",
       "              )\n",
       "            )\n",
       "            (intermediate): BertIntermediate(\n",
       "              (dense): Linear(in_features=768, out_features=3072, bias=True)\n",
       "            )\n",
       "            (output): BertOutput(\n",
       "              (dense): Linear(in_features=3072, out_features=768, bias=True)\n",
       "              (LayerNorm): LayerNorm((768,), eps=1e-12, elementwise_affine=True)\n",
       "              (dropout): Dropout(p=0.1, inplace=False)\n",
       "            )\n",
       "          )\n",
       "          (4): BertLayer(\n",
       "            (attention): BertAttention(\n",
       "              (self): BertSelfAttention(\n",
       "                (query): Linear(in_features=768, out_features=768, bias=True)\n",
       "                (key): Linear(in_features=768, out_features=768, bias=True)\n",
       "                (value): Linear(in_features=768, out_features=768, bias=True)\n",
       "                (dropout): Dropout(p=0.1, inplace=False)\n",
       "              )\n",
       "              (output): BertSelfOutput(\n",
       "                (dense): Linear(in_features=768, out_features=768, bias=True)\n",
       "                (LayerNorm): LayerNorm((768,), eps=1e-12, elementwise_affine=True)\n",
       "                (dropout): Dropout(p=0.1, inplace=False)\n",
       "              )\n",
       "            )\n",
       "            (intermediate): BertIntermediate(\n",
       "              (dense): Linear(in_features=768, out_features=3072, bias=True)\n",
       "            )\n",
       "            (output): BertOutput(\n",
       "              (dense): Linear(in_features=3072, out_features=768, bias=True)\n",
       "              (LayerNorm): LayerNorm((768,), eps=1e-12, elementwise_affine=True)\n",
       "              (dropout): Dropout(p=0.1, inplace=False)\n",
       "            )\n",
       "          )\n",
       "          (5): BertLayer(\n",
       "            (attention): BertAttention(\n",
       "              (self): BertSelfAttention(\n",
       "                (query): Linear(in_features=768, out_features=768, bias=True)\n",
       "                (key): Linear(in_features=768, out_features=768, bias=True)\n",
       "                (value): Linear(in_features=768, out_features=768, bias=True)\n",
       "                (dropout): Dropout(p=0.1, inplace=False)\n",
       "              )\n",
       "              (output): BertSelfOutput(\n",
       "                (dense): Linear(in_features=768, out_features=768, bias=True)\n",
       "                (LayerNorm): LayerNorm((768,), eps=1e-12, elementwise_affine=True)\n",
       "                (dropout): Dropout(p=0.1, inplace=False)\n",
       "              )\n",
       "            )\n",
       "            (intermediate): BertIntermediate(\n",
       "              (dense): Linear(in_features=768, out_features=3072, bias=True)\n",
       "            )\n",
       "            (output): BertOutput(\n",
       "              (dense): Linear(in_features=3072, out_features=768, bias=True)\n",
       "              (LayerNorm): LayerNorm((768,), eps=1e-12, elementwise_affine=True)\n",
       "              (dropout): Dropout(p=0.1, inplace=False)\n",
       "            )\n",
       "          )\n",
       "          (6): BertLayer(\n",
       "            (attention): BertAttention(\n",
       "              (self): BertSelfAttention(\n",
       "                (query): Linear(in_features=768, out_features=768, bias=True)\n",
       "                (key): Linear(in_features=768, out_features=768, bias=True)\n",
       "                (value): Linear(in_features=768, out_features=768, bias=True)\n",
       "                (dropout): Dropout(p=0.1, inplace=False)\n",
       "              )\n",
       "              (output): BertSelfOutput(\n",
       "                (dense): Linear(in_features=768, out_features=768, bias=True)\n",
       "                (LayerNorm): LayerNorm((768,), eps=1e-12, elementwise_affine=True)\n",
       "                (dropout): Dropout(p=0.1, inplace=False)\n",
       "              )\n",
       "            )\n",
       "            (intermediate): BertIntermediate(\n",
       "              (dense): Linear(in_features=768, out_features=3072, bias=True)\n",
       "            )\n",
       "            (output): BertOutput(\n",
       "              (dense): Linear(in_features=3072, out_features=768, bias=True)\n",
       "              (LayerNorm): LayerNorm((768,), eps=1e-12, elementwise_affine=True)\n",
       "              (dropout): Dropout(p=0.1, inplace=False)\n",
       "            )\n",
       "          )\n",
       "          (7): BertLayer(\n",
       "            (attention): BertAttention(\n",
       "              (self): BertSelfAttention(\n",
       "                (query): Linear(in_features=768, out_features=768, bias=True)\n",
       "                (key): Linear(in_features=768, out_features=768, bias=True)\n",
       "                (value): Linear(in_features=768, out_features=768, bias=True)\n",
       "                (dropout): Dropout(p=0.1, inplace=False)\n",
       "              )\n",
       "              (output): BertSelfOutput(\n",
       "                (dense): Linear(in_features=768, out_features=768, bias=True)\n",
       "                (LayerNorm): LayerNorm((768,), eps=1e-12, elementwise_affine=True)\n",
       "                (dropout): Dropout(p=0.1, inplace=False)\n",
       "              )\n",
       "            )\n",
       "            (intermediate): BertIntermediate(\n",
       "              (dense): Linear(in_features=768, out_features=3072, bias=True)\n",
       "            )\n",
       "            (output): BertOutput(\n",
       "              (dense): Linear(in_features=3072, out_features=768, bias=True)\n",
       "              (LayerNorm): LayerNorm((768,), eps=1e-12, elementwise_affine=True)\n",
       "              (dropout): Dropout(p=0.1, inplace=False)\n",
       "            )\n",
       "          )\n",
       "          (8): BertLayer(\n",
       "            (attention): BertAttention(\n",
       "              (self): BertSelfAttention(\n",
       "                (query): Linear(in_features=768, out_features=768, bias=True)\n",
       "                (key): Linear(in_features=768, out_features=768, bias=True)\n",
       "                (value): Linear(in_features=768, out_features=768, bias=True)\n",
       "                (dropout): Dropout(p=0.1, inplace=False)\n",
       "              )\n",
       "              (output): BertSelfOutput(\n",
       "                (dense): Linear(in_features=768, out_features=768, bias=True)\n",
       "                (LayerNorm): LayerNorm((768,), eps=1e-12, elementwise_affine=True)\n",
       "                (dropout): Dropout(p=0.1, inplace=False)\n",
       "              )\n",
       "            )\n",
       "            (intermediate): BertIntermediate(\n",
       "              (dense): Linear(in_features=768, out_features=3072, bias=True)\n",
       "            )\n",
       "            (output): BertOutput(\n",
       "              (dense): Linear(in_features=3072, out_features=768, bias=True)\n",
       "              (LayerNorm): LayerNorm((768,), eps=1e-12, elementwise_affine=True)\n",
       "              (dropout): Dropout(p=0.1, inplace=False)\n",
       "            )\n",
       "          )\n",
       "          (9): BertLayer(\n",
       "            (attention): BertAttention(\n",
       "              (self): BertSelfAttention(\n",
       "                (query): Linear(in_features=768, out_features=768, bias=True)\n",
       "                (key): Linear(in_features=768, out_features=768, bias=True)\n",
       "                (value): Linear(in_features=768, out_features=768, bias=True)\n",
       "                (dropout): Dropout(p=0.1, inplace=False)\n",
       "              )\n",
       "              (output): BertSelfOutput(\n",
       "                (dense): Linear(in_features=768, out_features=768, bias=True)\n",
       "                (LayerNorm): LayerNorm((768,), eps=1e-12, elementwise_affine=True)\n",
       "                (dropout): Dropout(p=0.1, inplace=False)\n",
       "              )\n",
       "            )\n",
       "            (intermediate): BertIntermediate(\n",
       "              (dense): Linear(in_features=768, out_features=3072, bias=True)\n",
       "            )\n",
       "            (output): BertOutput(\n",
       "              (dense): Linear(in_features=3072, out_features=768, bias=True)\n",
       "              (LayerNorm): LayerNorm((768,), eps=1e-12, elementwise_affine=True)\n",
       "              (dropout): Dropout(p=0.1, inplace=False)\n",
       "            )\n",
       "          )\n",
       "          (10): BertLayer(\n",
       "            (attention): BertAttention(\n",
       "              (self): BertSelfAttention(\n",
       "                (query): Linear(in_features=768, out_features=768, bias=True)\n",
       "                (key): Linear(in_features=768, out_features=768, bias=True)\n",
       "                (value): Linear(in_features=768, out_features=768, bias=True)\n",
       "                (dropout): Dropout(p=0.1, inplace=False)\n",
       "              )\n",
       "              (output): BertSelfOutput(\n",
       "                (dense): Linear(in_features=768, out_features=768, bias=True)\n",
       "                (LayerNorm): LayerNorm((768,), eps=1e-12, elementwise_affine=True)\n",
       "                (dropout): Dropout(p=0.1, inplace=False)\n",
       "              )\n",
       "            )\n",
       "            (intermediate): BertIntermediate(\n",
       "              (dense): Linear(in_features=768, out_features=3072, bias=True)\n",
       "            )\n",
       "            (output): BertOutput(\n",
       "              (dense): Linear(in_features=3072, out_features=768, bias=True)\n",
       "              (LayerNorm): LayerNorm((768,), eps=1e-12, elementwise_affine=True)\n",
       "              (dropout): Dropout(p=0.1, inplace=False)\n",
       "            )\n",
       "          )\n",
       "          (11): BertLayer(\n",
       "            (attention): BertAttention(\n",
       "              (self): BertSelfAttention(\n",
       "                (query): Linear(in_features=768, out_features=768, bias=True)\n",
       "                (key): Linear(in_features=768, out_features=768, bias=True)\n",
       "                (value): Linear(in_features=768, out_features=768, bias=True)\n",
       "                (dropout): Dropout(p=0.1, inplace=False)\n",
       "              )\n",
       "              (output): BertSelfOutput(\n",
       "                (dense): Linear(in_features=768, out_features=768, bias=True)\n",
       "                (LayerNorm): LayerNorm((768,), eps=1e-12, elementwise_affine=True)\n",
       "                (dropout): Dropout(p=0.1, inplace=False)\n",
       "              )\n",
       "            )\n",
       "            (intermediate): BertIntermediate(\n",
       "              (dense): Linear(in_features=768, out_features=3072, bias=True)\n",
       "            )\n",
       "            (output): BertOutput(\n",
       "              (dense): Linear(in_features=3072, out_features=768, bias=True)\n",
       "              (LayerNorm): LayerNorm((768,), eps=1e-12, elementwise_affine=True)\n",
       "              (dropout): Dropout(p=0.1, inplace=False)\n",
       "            )\n",
       "          )\n",
       "        )\n",
       "      )\n",
       "      (pooler): BertPooler(\n",
       "        (dense): Linear(in_features=768, out_features=768, bias=True)\n",
       "        (activation): Tanh()\n",
       "      )\n",
       "    )\n",
       "    (l2): Dropout(p=0.3, inplace=False)\n",
       "    (l3): Linear(in_features=768, out_features=14, bias=True)\n",
       "  )\n",
       ")"
      ]
     },
     "execution_count": 22,
     "metadata": {},
     "output_type": "execute_result"
    }
   ],
   "source": [
    "RoBERTa_model = AutoModelForSequenceClassification.from_pretrained('uer/roberta-base-finetuned-chinanews-chinese')\n",
    "\n",
    "class RoBERTaClass(torch.nn.Module):\n",
    "    def __init__(self):\n",
    "        super(RoBERTaClass, self).__init__()\n",
    "        self.l1 = RoBERTa_model.base_model\n",
    "        self.l2 = torch.nn.Dropout(0.3)\n",
    "        self.l3 = torch.nn.Linear(768, 14)\n",
    "        \n",
    "    def forward(self, input_ids, attention_mask, token_type_ids):\n",
    "        pooler_output = self.l1(input_ids, attention_mask, token_type_ids)[1]\n",
    "        output_2 = self.l2(pooler_output)\n",
    "        output = self.l3(output_2)\n",
    "        return output\n",
    "    \n",
    "model = RoBERTaClass()\n",
    "model = torch.nn.DataParallel(model) # 若有多 GPU 可使用 DataParallel() 來加速訓練 \n",
    "model.to(device)"
   ]
  },
  {
   "cell_type": "markdown",
   "id": "c0a96c79",
   "metadata": {},
   "source": [
    "## Training"
   ]
  },
  {
   "cell_type": "code",
   "execution_count": 23,
   "id": "7e1b9a89",
   "metadata": {},
   "outputs": [],
   "source": [
    "LEARNING_RATE = 3e-05\n",
    "\n",
    "def loss_fn(output, labels):\n",
    "    return torch.nn.CrossEntropyLoss()(output, labels)\n",
    "\n",
    "optimizer = torch.optim.AdamW(params =  model.parameters(), lr=LEARNING_RATE)"
   ]
  },
  {
   "cell_type": "code",
   "execution_count": 24,
   "id": "ca1fec52",
   "metadata": {},
   "outputs": [],
   "source": [
    "def train(epoch):\n",
    "    model.train() #將 model 設為 training mode\n",
    "    total_loss = 0\n",
    "    total = 0\n",
    "    correct = 0\n",
    "    \n",
    "    for data in tqdm(train_dataloader):\n",
    "        input_ids = data['input_ids'].to(device, dtype = torch.long)\n",
    "        attention_mask = data['attention_mask'].to(device, dtype = torch.long)\n",
    "        token_type_ids = data['token_type_ids'].to(device, dtype = torch.long)\n",
    "        labels = data['labels'].to(device, dtype = torch.long)\n",
    "        \n",
    "        outputs = model(input_ids, attention_mask, token_type_ids)\n",
    "        loss = loss_fn(outputs, labels)\n",
    "        total_loss += loss.item()\n",
    "        _, pred = torch.max(outputs, 1)\n",
    "        total += labels.size(0)\n",
    "        correct += pred.eq(labels).sum().item()\n",
    "        \n",
    "        optimizer.zero_grad()\n",
    "        loss.backward()\n",
    "        optimizer.step()\n",
    "        \n",
    "    train_loss = total_loss/total\n",
    "    train_acc = 100*correct/total\n",
    "    \n",
    "    return train_loss, train_acc"
   ]
  },
  {
   "cell_type": "code",
   "execution_count": 25,
   "id": "a966fc38",
   "metadata": {},
   "outputs": [],
   "source": [
    "def evaluation(val_dataloader):\n",
    "    model.eval() #將 model 設為 evaluation mode\n",
    "    total_loss = 0\n",
    "    total = 0\n",
    "    correct = 0\n",
    "    y_pred = []\n",
    "    y_true = []\n",
    "    \n",
    "    print('Evaluating...')\n",
    "    with torch.no_grad():\n",
    "        for data in val_dataloader:\n",
    "            input_ids = data['input_ids'].to(device, dtype = torch.long)\n",
    "            attention_mask = data['attention_mask'].to(device, dtype = torch.long)\n",
    "            token_type_ids = data['token_type_ids'].to(device, dtype = torch.long)\n",
    "            labels = data['labels'].to(device, dtype = torch.long)\n",
    "\n",
    "            outputs = model(input_ids, attention_mask, token_type_ids)\n",
    "            _, pred = outputs.max(1)\n",
    "            total += labels.size(0)\n",
    "            correct += pred.eq(labels).sum().item()\n",
    "            loss = loss_fn(outputs, labels)\n",
    "            total_loss += loss.item()\n",
    "            \n",
    "            y_true.extend(labels.cpu().numpy())\n",
    "            y_pred.extend(pred.cpu().numpy())\n",
    "            \n",
    "        loss = total_loss/total\n",
    "        acc = 100.*correct/total    \n",
    "        \n",
    "        return loss, acc, y_true, y_pred"
   ]
  },
  {
   "cell_type": "code",
   "execution_count": 26,
   "id": "2f594e0c",
   "metadata": {},
   "outputs": [],
   "source": [
    "class EarlyStopping:\n",
    "    \"\"\"Early stops the training if validation loss doesn't improve after a given patience.\"\"\"\n",
    "    def __init__(self, patience=7, verbose=False, delta=0, path='checkpoint.pt', trace_func=print):\n",
    "        \"\"\"\n",
    "        Args:\n",
    "            patience (int): How long to wait after last time validation loss improved.\n",
    "                            Default: 7\n",
    "            verbose (bool): If True, prints a message for each validation loss improvement. \n",
    "                            Default: False\n",
    "            delta (float): Minimum change in the monitored quantity to qualify as an improvement.\n",
    "                            Default: 0\n",
    "            path (str): Path for the checkpoint to be saved to.\n",
    "                            Default: 'checkpoint.pt'\n",
    "            trace_func (function): trace print function.\n",
    "                            Default: print            \n",
    "        \"\"\"\n",
    "        self.patience = patience\n",
    "        self.verbose = verbose\n",
    "        self.counter = 0\n",
    "        self.best_score = None\n",
    "        self.early_stop = False\n",
    "        self.val_loss_min = np.Inf\n",
    "        self.delta = delta\n",
    "        self.path = path\n",
    "        self.trace_func = trace_func\n",
    "    def __call__(self, val_loss, model):\n",
    "\n",
    "        score = -val_loss\n",
    "\n",
    "        if self.best_score is None:\n",
    "            self.best_score = score\n",
    "            self.save_checkpoint(val_loss, model)\n",
    "        elif score < self.best_score + self.delta:\n",
    "            self.counter += 1\n",
    "            self.trace_func(f'EarlyStopping counter: {self.counter} out of {self.patience}')\n",
    "            if self.counter >= self.patience:\n",
    "                self.early_stop = True\n",
    "        else:\n",
    "            self.best_score = score\n",
    "            self.save_checkpoint(val_loss, model)\n",
    "            self.counter = 0\n",
    "\n",
    "    def save_checkpoint(self, val_loss, model):\n",
    "        '''Saves model when validation loss decrease.'''\n",
    "        if self.verbose:\n",
    "            self.trace_func(f'Validation loss decreased ({self.val_loss_min:.6f} --> {val_loss:.6f}).  Saving model ...')\n",
    "        torch.save(model.state_dict(), self.path)\n",
    "        self.val_loss_min = val_loss"
   ]
  },
  {
   "cell_type": "code",
   "execution_count": 27,
   "id": "5abc2679",
   "metadata": {},
   "outputs": [
    {
     "name": "stdout",
     "output_type": "stream",
     "text": [
      "Epoch 1 of 10\n"
     ]
    },
    {
     "data": {
      "application/vnd.jupyter.widget-view+json": {
       "model_id": "966eaf1050b340458aa2b3a26f1c092e",
       "version_major": 2,
       "version_minor": 0
      },
      "text/plain": [
       "  0%|          | 0/1502 [00:00<?, ?it/s]"
      ]
     },
     "metadata": {},
     "output_type": "display_data"
    },
    {
     "name": "stdout",
     "output_type": "stream",
     "text": [
      "Evaluating...\n",
      "Validation loss decreased (inf --> 0.008930).  Saving model ...\n",
      "Training Loss:0.00738781420066624, Train Accuracy:93.86655011655012\n",
      "Validation Loss:0.008930051656779445, Validation Accuracy:90.76666666666667\n",
      "Epoch 2 of 10\n"
     ]
    },
    {
     "data": {
      "application/vnd.jupyter.widget-view+json": {
       "model_id": "530b95bf73c04a2aa3e69f75fb9c84f8",
       "version_major": 2,
       "version_minor": 0
      },
      "text/plain": [
       "  0%|          | 0/1502 [00:00<?, ?it/s]"
      ]
     },
     "metadata": {},
     "output_type": "display_data"
    },
    {
     "name": "stdout",
     "output_type": "stream",
     "text": [
      "Evaluating...\n",
      "EarlyStopping counter: 1 out of 7\n",
      "Training Loss:0.002718629926627473, Train Accuracy:97.50457875457876\n",
      "Validation Loss:0.009316017135691558, Validation Accuracy:92.51666666666667\n",
      "Epoch 3 of 10\n"
     ]
    },
    {
     "data": {
      "application/vnd.jupyter.widget-view+json": {
       "model_id": "7c3c24921032459a96e4c6f1b25c5cc3",
       "version_major": 2,
       "version_minor": 0
      },
      "text/plain": [
       "  0%|          | 0/1502 [00:00<?, ?it/s]"
      ]
     },
     "metadata": {},
     "output_type": "display_data"
    },
    {
     "name": "stdout",
     "output_type": "stream",
     "text": [
      "Evaluating...\n",
      "EarlyStopping counter: 2 out of 7\n",
      "Training Loss:0.0016771490689484478, Train Accuracy:98.41616716616717\n",
      "Validation Loss:0.010443370865218942, Validation Accuracy:91.95\n",
      "Epoch 4 of 10\n"
     ]
    },
    {
     "data": {
      "application/vnd.jupyter.widget-view+json": {
       "model_id": "fb9f31695a8d4c0c90a8d8386d282881",
       "version_major": 2,
       "version_minor": 0
      },
      "text/plain": [
       "  0%|          | 0/1502 [00:00<?, ?it/s]"
      ]
     },
     "metadata": {},
     "output_type": "display_data"
    },
    {
     "name": "stdout",
     "output_type": "stream",
     "text": [
      "Evaluating...\n",
      "Validation loss decreased (0.008930 --> 0.008541).  Saving model ...\n",
      "Training Loss:0.0011626038226421238, Train Accuracy:98.89901764901765\n",
      "Validation Loss:0.008540509176167688, Validation Accuracy:93.89166666666667\n",
      "Epoch 5 of 10\n"
     ]
    },
    {
     "data": {
      "application/vnd.jupyter.widget-view+json": {
       "model_id": "d94a062bdd3d4257ab32a6f0decf0a18",
       "version_major": 2,
       "version_minor": 0
      },
      "text/plain": [
       "  0%|          | 0/1502 [00:00<?, ?it/s]"
      ]
     },
     "metadata": {},
     "output_type": "display_data"
    },
    {
     "name": "stdout",
     "output_type": "stream",
     "text": [
      "Evaluating...\n",
      "EarlyStopping counter: 1 out of 7\n",
      "Training Loss:0.0009227982969178934, Train Accuracy:99.14044289044288\n",
      "Validation Loss:0.008715928588530611, Validation Accuracy:94.25\n",
      "Epoch 6 of 10\n"
     ]
    },
    {
     "data": {
      "application/vnd.jupyter.widget-view+json": {
       "model_id": "0174eef3166143838acb6608746838f8",
       "version_major": 2,
       "version_minor": 0
      },
      "text/plain": [
       "  0%|          | 0/1502 [00:00<?, ?it/s]"
      ]
     },
     "metadata": {},
     "output_type": "display_data"
    },
    {
     "name": "stdout",
     "output_type": "stream",
     "text": [
      "Evaluating...\n",
      "EarlyStopping counter: 2 out of 7\n",
      "Training Loss:0.0007421440349863114, Train Accuracy:99.3048618048618\n",
      "Validation Loss:0.01199494284857974, Validation Accuracy:92.875\n",
      "Epoch 7 of 10\n"
     ]
    },
    {
     "data": {
      "application/vnd.jupyter.widget-view+json": {
       "model_id": "f9a3885a001f4d038115569e4478f44f",
       "version_major": 2,
       "version_minor": 0
      },
      "text/plain": [
       "  0%|          | 0/1502 [00:00<?, ?it/s]"
      ]
     },
     "metadata": {},
     "output_type": "display_data"
    },
    {
     "name": "stdout",
     "output_type": "stream",
     "text": [
      "Evaluating...\n",
      "EarlyStopping counter: 3 out of 7\n",
      "Training Loss:0.0007066227257103468, Train Accuracy:99.32775557775558\n",
      "Validation Loss:0.014726863787781137, Validation Accuracy:90.66666666666667\n",
      "Epoch 8 of 10\n"
     ]
    },
    {
     "data": {
      "application/vnd.jupyter.widget-view+json": {
       "model_id": "a0837ef0f1a8482bb9e34d4bad93a984",
       "version_major": 2,
       "version_minor": 0
      },
      "text/plain": [
       "  0%|          | 0/1502 [00:00<?, ?it/s]"
      ]
     },
     "metadata": {},
     "output_type": "display_data"
    },
    {
     "name": "stdout",
     "output_type": "stream",
     "text": [
      "Evaluating...\n",
      "EarlyStopping counter: 4 out of 7\n",
      "Training Loss:0.0005955500601193998, Train Accuracy:99.44014319014319\n",
      "Validation Loss:0.018081557496282888, Validation Accuracy:89.20833333333333\n",
      "Epoch 9 of 10\n"
     ]
    },
    {
     "data": {
      "application/vnd.jupyter.widget-view+json": {
       "model_id": "3ecb52dc19f04b9aba57492168b76704",
       "version_major": 2,
       "version_minor": 0
      },
      "text/plain": [
       "  0%|          | 0/1502 [00:00<?, ?it/s]"
      ]
     },
     "metadata": {},
     "output_type": "display_data"
    },
    {
     "name": "stdout",
     "output_type": "stream",
     "text": [
      "Evaluating...\n",
      "EarlyStopping counter: 5 out of 7\n",
      "Training Loss:0.0005074459833657067, Train Accuracy:99.5483682983683\n",
      "Validation Loss:0.00936846447581441, Validation Accuracy:93.7\n",
      "Epoch 10 of 10\n"
     ]
    },
    {
     "data": {
      "application/vnd.jupyter.widget-view+json": {
       "model_id": "36355579b451427292f5e2855cc0b87a",
       "version_major": 2,
       "version_minor": 0
      },
      "text/plain": [
       "  0%|          | 0/1502 [00:00<?, ?it/s]"
      ]
     },
     "metadata": {},
     "output_type": "display_data"
    },
    {
     "name": "stdout",
     "output_type": "stream",
     "text": [
      "Evaluating...\n",
      "EarlyStopping counter: 6 out of 7\n",
      "Training Loss:0.0005475228878176837, Train Accuracy:99.49425574425574\n",
      "Validation Loss:0.013773086884936978, Validation Accuracy:90.66666666666667\n",
      "Training time: 166.597 minutes\n"
     ]
    }
   ],
   "source": [
    "train_losses, train_accus = [], []\n",
    "val_losses, val_accus = [], []\n",
    "\n",
    "EPOCH = 10\n",
    "patience = 7\n",
    "\n",
    "start = time.time()\n",
    "early_stopping = EarlyStopping(patience=patience, verbose=True)\n",
    "\n",
    "for epoch in range(EPOCH):\n",
    "    print(f'Epoch {epoch+1} of {EPOCH}')\n",
    "    \n",
    "    train_loss, train_acc = train(epoch)\n",
    "    val_loss, val_acc, _, _ = evaluation(valid_dataloader)\n",
    "    \n",
    "    train_losses.append(train_loss)\n",
    "    train_accus.append(train_acc)\n",
    "    val_losses.append(val_loss)\n",
    "    val_accus.append(val_acc)\n",
    "    \n",
    "    early_stopping(val_loss, model)\n",
    "    \n",
    "    if early_stopping.early_stop:\n",
    "        print('Early stopping')\n",
    "        break\n",
    "        \n",
    "    print(f'Training Loss:{train_loss}, Train Accuracy:{train_acc}')\n",
    "    print(f'Validation Loss:{val_loss}, Validation Accuracy:{val_acc}')\n",
    "    \n",
    "end = time.time()\n",
    "print(f\"Training time: {(end-start)/60:.3f} minutes\")"
   ]
  },
  {
   "cell_type": "markdown",
   "id": "5d825ebc",
   "metadata": {},
   "source": [
    "## Evaluation"
   ]
  },
  {
   "cell_type": "code",
   "execution_count": 28,
   "id": "197a661e",
   "metadata": {},
   "outputs": [
    {
     "data": {
      "text/plain": [
       "<matplotlib.legend.Legend at 0x7fad2e46cad0>"
      ]
     },
     "execution_count": 28,
     "metadata": {},
     "output_type": "execute_result"
    },
    {
     "data": {
      "image/png": "[encoded data removed]",
      "text/plain": [
       "<Figure size 1152x432 with 2 Axes>"
      ]
     },
     "metadata": {
      "needs_background": "light"
     },
     "output_type": "display_data"
    }
   ],
   "source": [
    "fig, (ax1, ax2) = plt.subplots(1,2, figsize = (16,6))\n",
    "\n",
    "ax1.plot(train_losses, label = 'Training Loss')\n",
    "ax1.plot(val_losses, label = 'Validation Loss')\n",
    "ax2.plot(train_accus, label = 'Training Accuracy')\n",
    "ax2.plot(val_accus, label = 'Validation Accuracy')\n",
    "ax1.set_label('Epoch')\n",
    "ax1.set_label('Loss')\n",
    "ax2.set_label('Epoch')\n",
    "ax2.set_label('Loss')\n",
    "ax1.legend()\n",
    "ax2.legend()"
   ]
  },
  {
   "cell_type": "code",
   "execution_count": 29,
   "id": "d2243297",
   "metadata": {},
   "outputs": [
    {
     "name": "stdout",
     "output_type": "stream",
     "text": [
      "Evaluating...\n",
      "Evaluation is completed.\n",
      "Testing Accuracy:94.90833333333333\n"
     ]
    }
   ],
   "source": [
    "model.load_state_dict(torch.load('checkpoint.pt'))\n",
    "\n",
    "test_dataloader = DataLoader(\n",
    "    tokenized_data['test'], shuffle=False, batch_size=BATCHSIZE)\n",
    "\n",
    "_, test_acc, y_true, y_pred = evaluation(test_dataloader)\n",
    "\n",
    "print('Evaluation is completed.')\n",
    "print(f'Testing Accuracy:{test_acc}')"
   ]
  },
  {
   "cell_type": "code",
   "execution_count": 30,
   "id": "432cf77b",
   "metadata": {},
   "outputs": [
    {
     "data": {
      "text/plain": [
       "Text(84.0, 0.5, 'True Label')"
      ]
     },
     "execution_count": 30,
     "metadata": {},
     "output_type": "execute_result"
    },
    {
     "data": {
      "image/png": "[encoded data removed]",
      "text/plain": [
       "<Figure size 864x504 with 2 Axes>"
      ]
     },
     "metadata": {
      "needs_background": "light"
     },
     "output_type": "display_data"
    }
   ],
   "source": [
    "from sklearn.metrics import confusion_matrix\n",
    "import matplotlib.pyplot as plt\n",
    "import seaborn as sns\n",
    "\n",
    "plt.rcParams['font.sans-serif'] = ['Microsoft JhengHei']\n",
    "plt.rcParams['font.size'] = '12'\n",
    "\n",
    "classes = ['游戏', '家居', '社会', '体育', \n",
    "           '股票', '财经', '科技',  '时政', \n",
    "           '娱乐', '教育', '时尚', '房产']\n",
    "\n",
    "confusion_matrix = confusion_matrix(y_true, y_pred)\n",
    "df_confusion_matrix = pd.DataFrame(confusion_matrix, index = classes, columns = classes)\n",
    "\n",
    "plt.figure(figsize=(12, 7))\n",
    "sns.heatmap(df_confusion_matrix, annot = True, fmt = 'd', cmap=\"Blues\")\n",
    "plt.xlabel('Predicted Label')\n",
    "plt.ylabel('True Label')"
   ]
  },
  {
   "cell_type": "code",
   "execution_count": null,
   "id": "d0ead7cb",
   "metadata": {},
   "outputs": [],
   "source": []
  }
 ],
 "metadata": {
  "kernelspec": {
   "display_name": "Python 3 (ipykernel)",
   "language": "python",
   "name": "python3"
  },
  "language_info": {
   "codemirror_mode": {
    "name": "ipython",
    "version": 3
   },
   "file_extension": ".py",
   "mimetype": "text/x-python",
   "name": "python",
   "nbconvert_exporter": "python",
   "pygments_lexer": "ipython3",
   "version": "3.7.10"
  }
 },
 "nbformat": 4,
 "nbformat_minor": 5
}
